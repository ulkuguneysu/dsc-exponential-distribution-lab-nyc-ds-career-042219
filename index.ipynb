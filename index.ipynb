{
 "cells": [
  {
   "cell_type": "markdown",
   "metadata": {},
   "source": [
    "# Exponential Distributions - Lab\n",
    "\n",
    "## Introduction\n",
    "\n",
    "In this lesson, we'll make use of newfound knowledge of the **_Exponential Distribution_** to answer some real-world questions!\n",
    "\n",
    "## Objectives\n",
    "\n",
    "You will be able to:\n",
    "\n",
    "* Understand and explain the Exponential Distribution and its use cases.\n",
    "\n",
    "## Getting Started\n",
    "\n",
    "Before we can begin answering questions, it will probably be helpful to write some python functions to quickly calculate the **_PDF_** and **_CDF_** for us.  \n",
    "\n",
    "For reference, here are the functions we'll want to implement.\n",
    "\n",
    "### Probability Density Function\n",
    "\n",
    "$$PDF(x) = \\lambda e^{- \\lambda x}$$\n",
    "\n",
    "###  Cumulative Density Function\n",
    "\n",
    "$$CDF(x) = 1 - e^{- \\lambda x}$$\n",
    "\n",
    "In the cell below, complete the following functions."
   ]
  },
  {
   "cell_type": "code",
   "execution_count": 1,
   "metadata": {},
   "outputs": [],
   "source": [
    "import numpy as np\n",
    "\n",
    "def exp_pdf(mu, x):\n",
    "    decay_rate = 1/mu\n",
    "    return decay_rate*np.exp(-decay_rate*x)\n",
    "    \n",
    "def exp_cdf(mu, x):\n",
    "    decay_rate = 1/mu\n",
    "    return 1 - np.exp(-decay_rate*x)"
   ]
  },
  {
   "cell_type": "markdown",
   "metadata": {},
   "source": [
    "Great! Now, lets answer some questions.\n",
    "\n",
    "## Question 1 \n",
    "\n",
    "Steven is picking up a friend at the airport, and their plane is late. The late flight is 22 minutes behind schedule.  What is the probability that Steven will wait 30 minutes or less for his friend's flight to land?"
   ]
  },
  {
   "cell_type": "code",
   "execution_count": 3,
   "metadata": {},
   "outputs": [
    {
     "data": {
      "text/plain": [
       "0.7442708400868994"
      ]
     },
     "execution_count": 3,
     "metadata": {},
     "output_type": "execute_result"
    }
   ],
   "source": [
    "mu = 22\n",
    "decay_rate = 1/22\n",
    "exp_cdf(22,30)\n",
    "\n",
    "\n",
    " # Expected Output: 0.7442708400868994"
   ]
  },
  {
   "cell_type": "markdown",
   "metadata": {},
   "source": [
    "## Question 2\n",
    "\n",
    "The average student takes 44 minutes to complete a test.  What is the probability that the fastest student in the class will take 38 minutes to complete the test?"
   ]
  },
  {
   "cell_type": "code",
   "execution_count": 8,
   "metadata": {},
   "outputs": [
    {
     "data": {
      "text/plain": [
       "0.4216261054870035"
      ]
     },
     "execution_count": 8,
     "metadata": {},
     "output_type": "execute_result"
    }
   ],
   "source": [
    "mu = 44\n",
    "decay_rate = 1/44\n",
    "x = 38\n",
    "1 - exp_cdf(44,38)\n",
    "# Expected Output: 0.4216261054870035"
   ]
  },
  {
   "cell_type": "markdown",
   "metadata": {},
   "source": [
    "## Question 3\n",
    "\n",
    "The first customer of the day walks into a store 6 minutes after the store opens, on average.  What is the probability that a customer shows up within 8 minutes of opening tomorrow?"
   ]
  },
  {
   "cell_type": "code",
   "execution_count": 9,
   "metadata": {},
   "outputs": [
    {
     "data": {
      "text/plain": [
       "0.7364028618842733"
      ]
     },
     "execution_count": 9,
     "metadata": {},
     "output_type": "execute_result"
    }
   ],
   "source": [
    "mu = 6\n",
    "exp_cdf(6,8)\n",
    "# Expected Output: 0.7364028618842733"
   ]
  },
  {
   "cell_type": "markdown",
   "metadata": {},
   "source": [
    "## Question 4\n",
    "\n",
    "The average interval that calls come in at a call center is 8 seconds. What is the probability that the nexts call will happen in 7 seconds?"
   ]
  },
  {
   "cell_type": "code",
   "execution_count": 14,
   "metadata": {},
   "outputs": [
    {
     "data": {
      "text/plain": [
       "[0.125,\n",
       " 0.11742663285168448,\n",
       " 0.11031211282307443,\n",
       " 0.10362863977255005,\n",
       " 0.09735009788392561,\n",
       " 0.09145195361833022,\n",
       " 0.08591115984887153,\n",
       " 0.0807060658034865,\n",
       " 0.07581633246407918,\n",
       " 0.07122285309136538,\n",
       " 0.06690767856487378,\n",
       " 0.06285394724636761,\n",
       " 0.059045819092626836,\n",
       " 0.055468413760134984,\n",
       " 0.05210775245981355,\n",
       " 0.048950703334599874,\n",
       " 0.04598493014643029,\n",
       " 0.043198844072121816,\n",
       " 0.04058155841979372,\n",
       " 0.03812284608888241,\n",
       " 0.03581309960752376,\n",
       " 0.03364329359114798,\n",
       " 0.03160494947559331,\n",
       " 0.029690102386932267,\n",
       " 0.027891270018553727,\n",
       " 0.026201423393887226,\n",
       " 0.024613959400524257,\n",
       " 0.023122674988413035,\n",
       " 0.021721742931305642,\n",
       " 0.0204056890567448,\n",
       " 0.01916937085561606,\n",
       " 0.01800795738768166,\n",
       " 0.016916910404576588,\n",
       " 0.01589196661650445,\n",
       " 0.014929121033339952,\n",
       " 0.014024611315042967,\n",
       " 0.013174903070233042,\n",
       " 0.012376676045478287,\n",
       " 0.011626811151332937,\n",
       " 0.010922378274427548,\n",
       " 0.01026062482798735,\n",
       " 0.00963896499603959,\n",
       " 0.009054969629281432,\n",
       " 0.008506356753126275,\n",
       " 0.007990982650838446,\n",
       " 0.007506833486913493,\n",
       " 0.007052017437972169,\n",
       " 0.006624757300419475,\n",
       " 0.006223383545982993,\n",
       " 0.0058463277979948726,\n",
       " 0.0054921167029259275,\n",
       " 0.005159366173224694,\n",
       " 0.004846775978965251,\n",
       " 0.004553124667170529,\n",
       " 0.004277264788958254,\n",
       " 0.0040181184158595085,\n",
       " 0.0037746729277898126,\n",
       " 0.0035459770562141376,\n",
       " 0.0033311371670444356,\n",
       " 0.0031293137687450185,\n",
       " 0.0029397182320011384]"
      ]
     },
     "execution_count": 14,
     "metadata": {},
     "output_type": "execute_result"
    }
   ],
   "source": [
    "# Create a list to contain the pdf-values\n",
    "mu = 8\n",
    "seconds = np.linspace(0,30, num = 61)\n",
    "pdf_values = []\n",
    "for x in seconds:\n",
    "    pdf_values.append(exp_pdf(8,x))\n",
    "pdf_values\n",
    "\n",
    "# Create the plot\n",
    "\n"
   ]
  },
  {
   "cell_type": "markdown",
   "metadata": {},
   "source": [
    "## Question 5\n",
    "\n",
    "The average earthquake in a given region happens every 7 weeks.  What is probability that the next earthquake happens between 5 and 8 weeks from now?\n",
    "\n",
    "**_Hint:_** This has both an upper and lower bound.  You'll need to do some arithmetic to solve this one. "
   ]
  },
  {
   "cell_type": "code",
   "execution_count": null,
   "metadata": {},
   "outputs": [],
   "source": [
    "lower_bound = None\n",
    "upper_bound  = None\n",
    "\n",
    "print(\"Probability of earthquake before 5 weeks: {}%\".format(lower_bound * 100))\n",
    "print(\"Probability of earthquake before 8 weeks: {}%\".format(upper_bound * 100))\n",
    "print(\"Probability of earthquake between 5 - 8 weeks: {}%\".format((upper_bound - lower_bound) * 100))\n",
    "\n",
    "# Expected Output: \n",
    "# \n",
    "# Probability of earthquake before 5 weeks: 51.045834044304684%\n",
    "# Probability of earthquake before 8 weeks: 68.10934426760295%\n",
    "# Probability of earthquake between 5 - 8 weeks: 17.063510223298273%"
   ]
  },
  {
   "cell_type": "markdown",
   "metadata": {},
   "source": [
    "## Summary\n",
    "\n",
    "In this lesson, we solved some real-world problems using the PDF and CDF for the Exponential Distribution!"
   ]
  }
 ],
 "metadata": {
  "kernelspec": {
   "display_name": "Python 3",
   "language": "python",
   "name": "python3"
  },
  "language_info": {
   "codemirror_mode": {
    "name": "ipython",
    "version": 3
   },
   "file_extension": ".py",
   "mimetype": "text/x-python",
   "name": "python",
   "nbconvert_exporter": "python",
   "pygments_lexer": "ipython3",
   "version": "3.6.6"
  }
 },
 "nbformat": 4,
 "nbformat_minor": 2
}
